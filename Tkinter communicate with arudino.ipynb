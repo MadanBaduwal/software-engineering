{
  "nbformat": 4,
  "nbformat_minor": 0,
  "metadata": {
    "colab": {
      "provenance": [],
      "collapsed_sections": [],
      "authorship_tag": "ABX9TyM8EVVs1RwANH6XL4u1Zm/2",
      "include_colab_link": true
    },
    "kernelspec": {
      "name": "python3",
      "display_name": "Python 3"
    }
  },
  "cells": [
    {
      "cell_type": "markdown",
      "metadata": {
        "id": "view-in-github",
        "colab_type": "text"
      },
      "source": [
        "<a href=\"https://colab.research.google.com/github/MadanBaduwal/software-engineering/blob/main/Tkinter%20communicate%20with%20arudino.ipynb\" target=\"_parent\"><img src=\"https://colab.research.google.com/assets/colab-badge.svg\" alt=\"Open In Colab\"/></a>"
      ]
    },
    {
      "cell_type": "markdown",
      "metadata": {
        "id": "IfCQ0rTonzQP"
      },
      "source": [
        "# How to connect ( communicate ) arduino with desktop application (python)"
      ]
    },
    {
      "cell_type": "markdown",
      "metadata": {
        "id": "hELRwqvmpfoC"
      },
      "source": [
        "## Option 1 : Upload Physicalpxal to arduino to write command for arduino\n",
        "\n",
        "* https://pythonforundergradengineers.com/python-arduino-LED.html\n"
      ]
    },
    {
      "cell_type": "markdown",
      "metadata": {
        "id": "wo1fMXLLqPF2"
      },
      "source": [
        "## Option 2 : Arduino to python communication through USB\n",
        "\n",
        "* https://www.instructables.com/Arduino-Python-Communication-via-USB/"
      ]
    },
    {
      "cell_type": "markdown",
      "metadata": {
        "id": "r7T7m2JfA4-Q"
      },
      "source": [
        "# Student managment system."
      ]
    },
    {
      "cell_type": "markdown",
      "metadata": {
        "id": "hNQCNQS9BqMP"
      },
      "source": [
        "## References \n",
        "\n",
        "* https://cppsecrets.com/users/7118115981111141079711456535064103109971051084699111109/Student-Management-System-with-database-connectivity-using-tkinter.php\n",
        "\n",
        "* https://github.com/shivambangwal/Student-Management-System-PYTHON-GUI-tkinter.-\n",
        "\n",
        "* https://code-projects.org/student-management-system-in-python-with-source-code/\n",
        "\n",
        "* https://cppsecrets.com/users/7118115981111141079711456535064103109971051084699111109/Student-Management-System-with-database-connectivity-using-tkinter.php\n",
        "\n",
        "* "
      ]
    },
    {
      "cell_type": "markdown",
      "metadata": {
        "id": "LZmBl2v24Rg1"
      },
      "source": [
        "# Sample github codes\n",
        "\n",
        "* https://github.com/SaadAhmedSalim/RegistrationFormUsingPython\n",
        "* "
      ]
    }
  ]
}