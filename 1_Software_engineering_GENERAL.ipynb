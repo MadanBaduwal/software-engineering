{
  "nbformat": 4,
  "nbformat_minor": 0,
  "metadata": {
    "colab": {
      "provenance": [],
      "collapsed_sections": [
        "tcXTGagGkDol",
        "WoZaXT8NueTM",
        "4EeFyyxRZEca"
      ],
      "authorship_tag": "ABX9TyM7Acg+410R0AQG0/PhsVbV",
      "include_colab_link": true
    },
    "kernelspec": {
      "name": "python3",
      "display_name": "Python 3"
    }
  },
  "cells": [
    {
      "cell_type": "markdown",
      "metadata": {
        "id": "view-in-github",
        "colab_type": "text"
      },
      "source": [
        "<a href=\"https://colab.research.google.com/github/MadanBaduwal/software-engineering/blob/main/1_Software_engineering_GENERAL.ipynb\" target=\"_parent\"><img src=\"https://colab.research.google.com/assets/colab-badge.svg\" alt=\"Open In Colab\"/></a>"
      ]
    },
    {
      "cell_type": "markdown",
      "metadata": {
        "id": "VUwmyDHvt5pi"
      },
      "source": [
        "# Environments"
      ]
    },
    {
      "cell_type": "markdown",
      "metadata": {
        "id": "KjA6B1oCuiBN"
      },
      "source": [
        "## Development (software)"
      ]
    },
    {
      "cell_type": "markdown",
      "metadata": {
        "id": "xlIUz1-8ymCm"
      },
      "source": [
        "## Testing (QA)"
      ]
    },
    {
      "cell_type": "markdown",
      "metadata": {
        "id": "hqB8_gAyzsHW"
      },
      "source": [
        "## Staging (Devops)"
      ]
    },
    {
      "cell_type": "markdown",
      "metadata": {
        "id": "LJ8ULg3TzupG"
      },
      "source": [
        "## Production (Devops)"
      ]
    },
    {
      "cell_type": "markdown",
      "metadata": {
        "id": "tcXTGagGkDol"
      },
      "source": [
        "# Readme of software project"
      ]
    },
    {
      "cell_type": "markdown",
      "metadata": {
        "id": "K5Q4Wkv3kJ42"
      },
      "source": [
        "## Project readme\n"
      ]
    },
    {
      "cell_type": "markdown",
      "metadata": {
        "id": "wUXq0JlBkHUO"
      },
      "source": [
        "* Project title\n",
        "* Write a description\n",
        "* Demo gif\n",
        "https://pixlr.com/\n",
        "https://ezgif.com/\n",
        "\n",
        "\n",
        "* Add a table of content(optional)\n",
        "* How to install your project \n",
        "  - command line ma install gareko gif banayara rakhdida best hunxa\n",
        "\n",
        "* How to use your project\n",
        " - image or gif rakhdida best hunxa webapp/dashboard ko\n",
        "\n",
        "* Include credentials\n",
        " - list your collaborators/team members. You should also include links to their GitHub profiles.\n",
        "\n",
        "* List the licence\n",
        "    - It lets other developers know what they can and cannot do with your project. \n",
        "    - https://choosealicense.com/\n",
        "* Badges\n",
        "    - https://shields.io/\n",
        "* How to contribute the project\n",
        "   - guidelines to let them know on how they can contribute to your project.\n",
        "\n",
        "\n",
        "\n",
        "\n",
        "\n",
        "\n"
      ]
    },
    {
      "cell_type": "markdown",
      "metadata": {
        "id": "OudRZ0s1gVBa"
      },
      "source": [
        "# General concept of software engineer \n",
        "\n",
        "## (UX/UI > backend logic > database)app > github > Docker image in docker container registry > run Docker container in kubernet (note : server is like linux computer)"
      ]
    },
    {
      "cell_type": "markdown",
      "metadata": {
        "id": "CJW8n9iB-l1s"
      },
      "source": [
        "# MLOPS\n",
        "\n",
        "## Maile each, new  project ma mlops ko concept use gareko hunxu , so \n",
        "\n",
        "## jun sukai project garda , tyo project lai clone garni and new project teslai garni ok."
      ]
    },
    {
      "cell_type": "markdown",
      "metadata": {
        "id": "WoZaXT8NueTM"
      },
      "source": [
        "# Everything inside root folder of project( Project ko main folder bhitra hunxa    devepos ko kam)"
      ]
    },
    {
      "cell_type": "markdown",
      "metadata": {
        "id": "L8RTCHbLumUJ"
      },
      "source": [
        "Git >Read.md\n",
        "\n",
        "Docker>\n",
        "\n",
        "Virtual> "
      ]
    },
    {
      "cell_type": "markdown",
      "metadata": {
        "id": "4EeFyyxRZEca"
      },
      "source": [
        "# Why devops"
      ]
    },
    {
      "cell_type": "markdown",
      "metadata": {
        "id": "xfeblaeEZHVG"
      },
      "source": [
        "Problem face while iam doing project.\n",
        "* Maile local machine ma project garya tyo project lai huraku or sathiko laptop ma lagda  mero mero project lai k k dependencies chinxa tyo kasari tha pauni?\n",
        "\n",
        "* So docker and virtualenvironment are most."
      ]
    },
    {
      "cell_type": "markdown",
      "metadata": {
        "id": "i5JyyLC4SCyI"
      },
      "source": [
        "# General concept of API\n",
        "\n",
        "## Header(Request Authorization)\n",
        "\n",
        "## Body"
      ]
    },
    {
      "cell_type": "markdown",
      "metadata": {
        "id": "oDcv_pelXH_M"
      },
      "source": [
        "# important reference\n",
        "\n",
        "* https://sp-fm.github.io/python-lifecycle-training/setup/dynaconf.html\n",
        "\n",
        "*  https://www.youtube.com/watch?v=ZcijPysw1wA\n",
        "\n",
        "* https://www.youtube.com/watch?v=Ly3Dor8HZUA&t=6299s\n",
        "* https://github.com/c17hawke/wafer_mlops_docs\n",
        "* https://c17hawke.github.io/wafer_mlops_docs/\n",
        "* https://github.com/c17hawke/mlops_main\n",
        "\n"
      ]
    },
    {
      "cell_type": "markdown",
      "metadata": {
        "id": "06dnXJQMkuNO"
      },
      "source": [
        "# Reference \n",
        "\n",
        "* https://en.wikipedia.org/wiki/Deployment_environment\n",
        "\n",
        "* https://www.freecodecamp.org/news/how-to-write-a-good-readme-file/\n",
        "\n",
        "* Make readme : https://www.makeareadme.com/\n",
        "* Readme generator : https://rahuldkjain.github.io/gh-profile-readme-generator/\n"
      ]
    }
  ]
}